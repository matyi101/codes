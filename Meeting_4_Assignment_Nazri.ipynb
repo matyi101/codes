{
  "nbformat": 4,
  "nbformat_minor": 0,
  "metadata": {
    "colab": {
      "name": "Meeting 4 Assignment - Nazri.ipynb",
      "provenance": [],
      "collapsed_sections": [],
      "include_colab_link": true
    },
    "kernelspec": {
      "name": "python3",
      "display_name": "Python 3"
    },
    "language_info": {
      "name": "python"
    }
  },
  "cells": [
    {
      "cell_type": "markdown",
      "metadata": {
        "id": "view-in-github",
        "colab_type": "text"
      },
      "source": [
        "<a href=\"https://colab.research.google.com/github/matyi101/codes/blob/main/Meeting_4_Assignment_Nazri.ipynb\" target=\"_parent\"><img src=\"https://colab.research.google.com/assets/colab-badge.svg\" alt=\"Open In Colab\"/></a>"
      ]
    },
    {
      "cell_type": "markdown",
      "metadata": {
        "id": "eF7gCfW8FLwa"
      },
      "source": [
        "## **MOHD NAZRI NAWI**"
      ]
    },
    {
      "cell_type": "markdown",
      "metadata": {
        "id": "NPOanDkG9Eeh"
      },
      "source": [
        "# **Meeting 4 Assignment**\n",
        "\n",
        "Using the dataset provided in elearning, perform these tasks:\n",
        "\n",
        "\n",
        "1.   Upload the data using pandas dataframe function, make sure the dataframe has the date as the index, and sales is the target value\n",
        "2. Perform a few steps of EDA\n",
        "2.   Show 2 examples of accessing a row of certain dates\n",
        "3.   Create a column on the dataframe that calculate rolling mean based on sales number\n",
        "4. Using Linear Regression, fit a model to forecast the sales. \n",
        "\n",
        "\n",
        "\n",
        "\n",
        "\n",
        "\n",
        "\n",
        "\n",
        "\n"
      ]
    },
    {
      "cell_type": "code",
      "metadata": {
        "id": "aDLkxrqHo1-P"
      },
      "source": [
        "from google.colab import drive\n",
        "drive.mount('/content/drive')"
      ],
      "execution_count": null,
      "outputs": []
    },
    {
      "cell_type": "code",
      "metadata": {
        "id": "Qgfa3go59Bmb"
      },
      "source": [
        "import pandas as pd\n",
        "import numpy as np\n",
        "import matplotlib.pyplot as plt\n",
        "% matplotlib inline\n",
        "\n",
        "data = pd.read_csv('/content/drive/MyDrive/Colab Notebooks/sales.csv', parse_dates=['date'],index_col='date').drop(['id','family','onpromotion'], axis=1) \n",
        "data.info()"
      ],
      "execution_count": null,
      "outputs": []
    },
    {
      "cell_type": "code",
      "metadata": {
        "id": "2of4_YAjQ7jl"
      },
      "source": [
        "df = data"
      ],
      "execution_count": null,
      "outputs": []
    },
    {
      "cell_type": "code",
      "metadata": {
        "id": "-5a8OdrFQ-YJ"
      },
      "source": [
        "df.head()"
      ],
      "execution_count": null,
      "outputs": []
    },
    {
      "cell_type": "code",
      "metadata": {
        "id": "s2xTiw0B4HSI"
      },
      "source": [
        "df.tail()"
      ],
      "execution_count": null,
      "outputs": []
    },
    {
      "cell_type": "code",
      "metadata": {
        "id": "K4o2JlIu558C"
      },
      "source": [
        "# View the data statistics\n",
        "df.describe()"
      ],
      "execution_count": null,
      "outputs": []
    },
    {
      "cell_type": "code",
      "metadata": {
        "id": "9BFMuWcrqsll"
      },
      "source": [
        "df[df.index.day == 10]"
      ],
      "execution_count": null,
      "outputs": []
    },
    {
      "cell_type": "code",
      "metadata": {
        "id": "Xzpzsrh6uemh"
      },
      "source": [
        "df['2013-04-01':'2013-06-01']"
      ],
      "execution_count": null,
      "outputs": []
    },
    {
      "cell_type": "code",
      "metadata": {
        "id": "-8CfccLi4q1o"
      },
      "source": [
        "from matplotlib.pyplot import figure\n",
        "figure(figsize=(15, 5), dpi=80)\n",
        "\n",
        "plt.plot(df.store_nbr, df.sales, alpha=0.5)\n",
        "plt.xlabel(\"store_nbr\")\n",
        "plt.ylabel(\"Sales\")\n",
        "plt.title(\"Sales\")\n",
        "plt.show"
      ],
      "execution_count": null,
      "outputs": []
    },
    {
      "cell_type": "code",
      "metadata": {
        "id": "uArd5nk5ZPdK"
      },
      "source": [
        "df = df.drop(['store_nbr'], axis = 1)\n",
        "df"
      ],
      "execution_count": null,
      "outputs": []
    },
    {
      "cell_type": "code",
      "metadata": {
        "id": "ktt0sKXt5_Yy"
      },
      "source": [
        "# Calculate 30d and 90d rolling mean for the last sales\n",
        "df['rolling_sum'] = df.rolling('30D').mean()\n",
        "df.head(10)\n"
      ],
      "execution_count": null,
      "outputs": []
    },
    {
      "cell_type": "code",
      "metadata": {
        "id": "N338RzFp6UB3"
      },
      "source": [
        "#shifting your data into the future using .shift()\n",
        "\n",
        "df['shifted']=df.rolling_sum.shift()\n",
        "df.head()"
      ],
      "execution_count": null,
      "outputs": []
    },
    {
      "cell_type": "code",
      "metadata": {
        "id": "fEmm56IMIHfB"
      },
      "source": [
        "df['days_from_start'] = (df.index - df.index[0]).days; df"
      ],
      "execution_count": null,
      "outputs": []
    },
    {
      "cell_type": "code",
      "metadata": {
        "id": "84ledD9dasDg"
      },
      "source": [
        "X = df['days_from_start'].values.reshape(-1, 1)\n",
        "y = df['sales']"
      ],
      "execution_count": null,
      "outputs": []
    },
    {
      "cell_type": "code",
      "metadata": {
        "id": "Uu-1jiVSbDXb"
      },
      "source": [
        "from sklearn.linear_model import LinearRegression\n",
        "\n",
        "reg = LinearRegression()\n",
        "model = reg.fit(X,y)\n",
        "\n",
        "y_pred = reg.predict(X)\n",
        "y_pred"
      ],
      "execution_count": null,
      "outputs": []
    },
    {
      "cell_type": "code",
      "metadata": {
        "id": "PJgTRu0Fc16M"
      },
      "source": [
        "# Print R^2 \n",
        "print(model.score(X,y))"
      ],
      "execution_count": null,
      "outputs": []
    },
    {
      "cell_type": "code",
      "metadata": {
        "id": "yuL46hVTfpSG"
      },
      "source": [
        "f, ax = plt.subplots(1, 1)\n",
        "ax.plot(X, y_pred,label='Linear fit', lw=3)\n",
        "ax.scatter(X, y_pred,label='value', marker='o', color='r')\n",
        "plt.ylabel('bat')\n",
        "ax.legend();\n",
        "\n",
        "plt.show()"
      ],
      "execution_count": null,
      "outputs": []
    }
  ]
}